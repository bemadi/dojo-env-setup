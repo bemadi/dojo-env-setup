{
 "cells": [
  {
   "cell_type": "code",
   "execution_count": 1,
   "id": "3477feac",
   "metadata": {},
   "outputs": [
    {
     "data": {
      "text/plain": [
       "['.ipynb_checkpoints',\n",
       " 'Books',\n",
       " 'title_akas.csv.gz',\n",
       " 'title_basics.csv.gz',\n",
       " 'title_ratings.csv.gz',\n",
       " 'Tshirt.csv']"
      ]
     },
     "execution_count": 1,
     "metadata": {},
     "output_type": "execute_result"
    }
   ],
   "source": [
    "import os\n",
    "FOLDER = \"Data/\"\n",
    "os.makedirs(FOLDER, exist_ok=True)\n",
    "os.listdir(FOLDER)"
   ]
  },
  {
   "cell_type": "code",
   "execution_count": 2,
   "id": "ed8d2897",
   "metadata": {},
   "outputs": [],
   "source": [
    "YEARS_TO_GET = [2000,2001]"
   ]
  },
  {
   "cell_type": "markdown",
   "id": "35c1b07f",
   "metadata": {},
   "source": [
    "**Start OUTER Loop**\n",
    "\n",
    "Set up a progress bar - we want to keep track of our progress and ensure our calls are working. The progress bar works within the for statement of the loop. Note that this will iterate through each year that is defined in the YEARS_TO_GET variable. "
   ]
  },
  {
   "cell_type": "code",
   "execution_count": null,
   "id": "a191d958",
   "metadata": {},
   "outputs": [],
   "source": [
    "# Start of OUTER loop\n",
    "for YEAR in tqdm_notebook(YEARS_TO_GET,desc='YEARS',position=0):"
   ]
  },
  {
   "cell_type": "markdown",
   "id": "a6ca9df9",
   "metadata": {},
   "source": [
    "Ultimately we will be creating a loop, but let's explore each piece of the code. \n",
    "\n",
    "**Select a JSON_FILE filename to save the results in progress**\n",
    "\n",
    "Check if the file exists\n",
    "if not: create an empty JSON file with *with open* that just contains the key \"imdb_id\" \n",
    "if yes: Do nothing\n",
    "\n",
    "First, define the file path and names: We are going to have multiple files since we are creating a separate file for each year. The code below will identify the folder in the FOLDER we just defined above and will name the file based on the current year. "
   ]
  },
  {
   "cell_type": "code",
   "execution_count": null,
   "id": "8f2a7529",
   "metadata": {},
   "outputs": [],
   "source": [
    "#Defining the JSON file to store results for year\n",
    "JSON_FILE = f'{FOLDER}tmdb_api_results_{YEAR}.json'\n",
    "\n",
    "#Check if that file already exists or not\n",
    "\n",
    "# Check if file exists\n",
    "file_exists = os.path.isfile(JSON_FILE)"
   ]
  },
  {
   "cell_type": "code",
   "execution_count": null,
   "id": "692dc8fc",
   "metadata": {},
   "outputs": [],
   "source": [
    "# If it does not exist: create it\n",
    "if file_exists == False:\n",
    "# save an empty dict with just \"imdb_id\" to the new json file.\n",
    "    with open(JSON_FILE,'w') as f:\n",
    "        json.dump([{'imdb_id':0}],f)"
   ]
  },
  {
   "cell_type": "markdown",
   "id": "60fbfdf7",
   "metadata": {},
   "source": [
    "**Define/Filter the IDs to Call**\n",
    "\n",
    "You need to read in the filtered dataframe you created based on the specification of Project 3 Part 1. "
   ]
  },
  {
   "cell_type": "code",
   "execution_count": null,
   "id": "a9ab5c0a",
   "metadata": {},
   "outputs": [],
   "source": [
    "# Load in the dataframe from project part 1 as basics:\n",
    "basics = pd.read_csv('YOUR PATH')"
   ]
  },
  {
   "cell_type": "markdown",
   "id": "4b62edac",
   "metadata": {},
   "source": [
    "We are going to break up data by year, so we will define a new dataframe for each year. Notice that which YEAR will depend on what we define YEAR as. Leaving YEAR a variable allows the code to be easier to read and reproduce. "
   ]
  },
  {
   "cell_type": "code",
   "execution_count": null,
   "id": "b2dcae72",
   "metadata": {},
   "outputs": [],
   "source": [
    "#Saving new year as the current df\n",
    "df = basics.loc[ basics['startYear']==YEAR].copy()\n",
    "# saving movie ids to list\n",
    "movie_ids = df['tconst'].copy()#.to_list()"
   ]
  },
  {
   "cell_type": "markdown",
   "id": "080f937d",
   "metadata": {},
   "source": [
    "**Check for and Remove any Previously Downloaded Movie IDs**"
   ]
  },
  {
   "cell_type": "code",
   "execution_count": null,
   "id": "b059ccff",
   "metadata": {},
   "outputs": [],
   "source": [
    "# Load existing data from json into a dataframe called \"previous_df\"\n",
    "previous_df = pd.read_json(JSON_FILE)"
   ]
  },
  {
   "cell_type": "markdown",
   "id": "1e650d76",
   "metadata": {},
   "source": [
    "**Check for and filter out movie IDs that already exist**\n",
    "\n",
    "This next line will prevent you from wasting API calls on data you already have. Note that it is defining the IDs you are calling in such a way that it excludes any IDs that are already present in the previous_df. "
   ]
  },
  {
   "cell_type": "code",
   "execution_count": null,
   "id": "91581671",
   "metadata": {},
   "outputs": [],
   "source": [
    "# filter out any ids that are already in the JSON_FILE\n",
    "movie_ids_to_get = movie_ids[~movie_ids.isin(previous_df['imdb_id'])]"
   ]
  },
  {
   "cell_type": "markdown",
   "id": "649c3373",
   "metadata": {},
   "source": [
    "Now, we have defined the 'movie_ids_to_get'. It includes the IDs from our dataframe in the year we are seeking, and it excludes any that we have already made calls for. \n",
    "\n",
    "**Start INNER Loop**\n",
    "\n",
    "Use a function to append new results to the existing JSON file"
   ]
  },
  {
   "cell_type": "code",
   "execution_count": 3,
   "id": "6918a1d6",
   "metadata": {},
   "outputs": [],
   "source": [
    "def write_json(new_data, filename): \n",
    "    \"\"\"Adapted from: https://www.geeksforgeeks.org/append-to-json-file-using-python/\"\"\"    \n",
    "    \n",
    "    with open(filename,'r+') as file:\n",
    "        # First we load existing data into a dict.\n",
    "        file_data = json.load(file)\n",
    "        ## Choose extend or append\n",
    "        if (type(new_data) == list) & (type(file_data) == list):\n",
    "            file_data.extend(new_data)\n",
    "        else:\n",
    "             file_data.append(new_data)\n",
    "        # Sets file's current position at offset.\n",
    "        file.seek(0)\n",
    "        # convert back to json.\n",
    "        json.dump(file_data, file)"
   ]
  },
  {
   "cell_type": "markdown",
   "id": "908b9c12",
   "metadata": {},
   "source": [
    "**Iterate through the list of Movie IDs and make the calls**\n"
   ]
  },
  {
   "cell_type": "code",
   "execution_count": 5,
   "id": "2a48f0f1",
   "metadata": {},
   "outputs": [
    {
     "ename": "NameError",
     "evalue": "name 'tqdm_notebook' is not defined",
     "output_type": "error",
     "traceback": [
      "\u001b[1;31m---------------------------------------------------------------------------\u001b[0m",
      "\u001b[1;31mNameError\u001b[0m                                 Traceback (most recent call last)",
      "\u001b[1;32m~\\AppData\\Local\\Temp\\ipykernel_10848\\3672319286.py\u001b[0m in \u001b[0;36m<module>\u001b[1;34m\u001b[0m\n\u001b[0;32m      1\u001b[0m \u001b[1;31m#Get index and movie id from list\u001b[0m\u001b[1;33m\u001b[0m\u001b[1;33m\u001b[0m\u001b[1;33m\u001b[0m\u001b[0m\n\u001b[0;32m      2\u001b[0m \u001b[1;31m# INNER Loop\u001b[0m\u001b[1;33m\u001b[0m\u001b[1;33m\u001b[0m\u001b[1;33m\u001b[0m\u001b[0m\n\u001b[1;32m----> 3\u001b[1;33m for movie_id in tqdm_notebook(movie_ids_to_get,\n\u001b[0m\u001b[0;32m      4\u001b[0m                                   \u001b[0mdesc\u001b[0m\u001b[1;33m=\u001b[0m\u001b[1;34mf'Movies from {YEAR}'\u001b[0m\u001b[1;33m,\u001b[0m\u001b[1;33m\u001b[0m\u001b[1;33m\u001b[0m\u001b[0m\n\u001b[0;32m      5\u001b[0m                                   \u001b[0mposition\u001b[0m\u001b[1;33m=\u001b[0m\u001b[1;36m1\u001b[0m\u001b[1;33m,\u001b[0m\u001b[1;33m\u001b[0m\u001b[1;33m\u001b[0m\u001b[0m\n",
      "\u001b[1;31mNameError\u001b[0m: name 'tqdm_notebook' is not defined"
     ]
    }
   ],
   "source": [
    "#Get index and movie id from list\n",
    "# INNER Loop\n",
    "for movie_id in tqdm_notebook(movie_ids_to_get,\n",
    "                                  desc=f'Movies from {YEAR}',\n",
    "                                  position=1,\n",
    "                                  leave=True):\n",
    "        # Attempt to retrieve then data for the movie id\n",
    "        try:\n",
    "            temp = get_movie_with_rating(movie_id)  #This uses your pre-made function\n",
    "            # Append/extend results to existing file using a pre-made function\n",
    "            write_json(temp,JSON_FILE)\n",
    "            # Short 20 ms sleep to prevent overwhelming server\n",
    "            time.sleep(0.02)\n",
    "            \n",
    "        # If it fails,  make a dict with just the id and None for certification.\n",
    "        except Exception as e:\n",
    "            continue"
   ]
  },
  {
   "cell_type": "markdown",
   "id": "227763d9",
   "metadata": {},
   "source": [
    "Save the years results as csv.gz file"
   ]
  },
  {
   "cell_type": "code",
   "execution_count": null,
   "id": "8bb7e130",
   "metadata": {},
   "outputs": [],
   "source": [
    "final_year_df = pd.read_json(JSON_FILE)\n",
    "final_year_df.to_csv(f\"{FOLDER}final_tmdb_data_{YEAR}.csv.gz\", compression=\"gzip\", index=False)"
   ]
  },
  {
   "cell_type": "markdown",
   "id": "9b0fed7c",
   "metadata": {},
   "source": [
    "If you get an error message, try replacing pd.read_json with pd.read_and_fix_json"
   ]
  },
  {
   "cell_type": "code",
   "execution_count": null,
   "id": "d133eae7",
   "metadata": {},
   "outputs": [],
   "source": [
    "# Instead of previous_df=pd.read_json:\n",
    "previous_df = read_and_fix_json(JSON_FILE)"
   ]
  }
 ],
 "metadata": {
  "kernelspec": {
   "display_name": "Python (dojo-env)",
   "language": "python",
   "name": "dojo.env"
  },
  "language_info": {
   "codemirror_mode": {
    "name": "ipython",
    "version": 3
   },
   "file_extension": ".py",
   "mimetype": "text/x-python",
   "name": "python",
   "nbconvert_exporter": "python",
   "pygments_lexer": "ipython3",
   "version": "3.7.12"
  },
  "toc": {
   "base_numbering": 1,
   "nav_menu": {},
   "number_sections": false,
   "sideBar": true,
   "skip_h1_title": false,
   "title_cell": "Table of Contents",
   "title_sidebar": "Contents",
   "toc_cell": false,
   "toc_position": {},
   "toc_section_display": true,
   "toc_window_display": false
  }
 },
 "nbformat": 4,
 "nbformat_minor": 5
}
