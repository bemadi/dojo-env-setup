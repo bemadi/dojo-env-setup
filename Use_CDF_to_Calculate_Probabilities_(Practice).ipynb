{
  "nbformat": 4,
  "nbformat_minor": 0,
  "metadata": {
    "colab": {
      "name": "Use CDF to Calculate Probabilities (Practice).ipynb",
      "provenance": [],
      "authorship_tag": "ABX9TyMaOBP9X0g8OstCHmJZ/i7C",
      "include_colab_link": true
    },
    "kernelspec": {
      "name": "python3",
      "display_name": "Python 3"
    },
    "language_info": {
      "name": "python"
    }
  },
  "cells": [
    {
      "cell_type": "markdown",
      "metadata": {
        "id": "view-in-github",
        "colab_type": "text"
      },
      "source": [
        "<a href=\"https://colab.research.google.com/github/bemadi/dojo-env-setup/blob/main/Use_CDF_to_Calculate_Probabilities_(Practice).ipynb\" target=\"_parent\"><img src=\"https://colab.research.google.com/assets/colab-badge.svg\" alt=\"Open In Colab\"/></a>"
      ]
    },
    {
      "cell_type": "code",
      "execution_count": 1,
      "metadata": {
        "id": "Mn5ayIHbR9h6"
      },
      "outputs": [],
      "source": [
        "import pandas as pd\n",
        "import numpy as np\n",
        "import matplotlib.pyplot as plt\n",
        "import seaborn as sns\n",
        "import scipy.stats as stats"
      ]
    },
    {
      "cell_type": "code",
      "source": [
        "df = pd.read_csv('https://docs.google.com/spreadsheets/d/e/2PACX-1vRxp-hsw61ck9cpt5ExZIUhvSGT5zYzoUJl_7xr7YF5qZeazC8393q2taqwkDvMxVirgFDJm1WX3uAC/pub?output=csv')\n",
        "males = df.loc[ df['Gender'] == 'Male'].copy()\n",
        "females = df.loc[ df['Gender'] == 'Female'].copy()"
      ],
      "metadata": {
        "id": "awz7gRFiSNoL"
      },
      "execution_count": 2,
      "outputs": []
    },
    {
      "cell_type": "markdown",
      "source": [
        "Use the normal cumulative distribution function with the mean and standard deviation of female height to calculate the probability that a female height is:\n",
        "\n",
        "1. Between 55 and 56 inches\n",
        "2. Less than 5 feet (60 inches)\n",
        "3. Is greater than the mean (hint: do you know this answer intuitively?)"
      ],
      "metadata": {
        "id": "XO8uNyvyUa_g"
      }
    },
    {
      "cell_type": "markdown",
      "source": [
        "# 1"
      ],
      "metadata": {
        "id": "rIZZdbt9V0vY"
      }
    },
    {
      "cell_type": "code",
      "source": [
        "data = females['Height']\n",
        "low_end = 55.0\n",
        "high_end = 56.0"
      ],
      "metadata": {
        "id": "ipP2hrtATt-X"
      },
      "execution_count": 3,
      "outputs": []
    },
    {
      "cell_type": "code",
      "source": [
        "mean = np.mean(data)\n",
        "std = np.std(data)\n",
        "min = np.min(data)\n",
        "max = np.max(data)"
      ],
      "metadata": {
        "id": "FrXnLeq1U-_8"
      },
      "execution_count": 4,
      "outputs": []
    },
    {
      "cell_type": "code",
      "source": [
        "x_range = np.linspace(min, max, 1000)"
      ],
      "metadata": {
        "id": "f706wpi2Vpmp"
      },
      "execution_count": 6,
      "outputs": []
    },
    {
      "cell_type": "code",
      "source": [
        "cdf = stats.norm.cdf(x_range, loc=mean, scale=std)"
      ],
      "metadata": {
        "id": "yrh5_yyYVaqs"
      },
      "execution_count": 10,
      "outputs": []
    },
    {
      "cell_type": "code",
      "source": [
        "fig, ax = plt.subplots(figsize=(12,6))\n",
        "sns.histplot(x=data, stat='density', cumulative= True)\n",
        "ax.plot(x_range, cdf)\n",
        "ax.axvline(low_end, color='black')\n",
        "ax.axvline(high_end, color='black')\n",
        "ax.axvspan(low_end, high_end, color = 'yellow', zorder = 0)\n",
        "ax.set_title('Range of Interest');"
      ],
      "metadata": {
        "colab": {
          "base_uri": "https://localhost:8080/",
          "height": 404
        },
        "id": "iyTEwxdCVy0y",
        "outputId": "9f672d09-c51d-4865-bcbd-007fa6ce24b6"
      },
      "execution_count": 11,
      "outputs": [
        {
          "output_type": "display_data",
          "data": {
            "text/plain": [
              "<Figure size 864x432 with 1 Axes>"
            ],
            "image/png": "[encoded data removed]"
          },
          "metadata": {
            "needs_background": "light"
          }
        }
      ]
    },
    {
      "cell_type": "code",
      "source": [
        "stats.norm.cdf(high_end, loc=mean, scale=std) - stats.norm.cdf(low_end, loc=mean, scale=std)"
      ],
      "metadata": {
        "colab": {
          "base_uri": "https://localhost:8080/"
        },
        "id": "GfGi-paWXPr2",
        "outputId": "6365e84c-4459-4870-ad55-d4e085e24468"
      },
      "execution_count": 12,
      "outputs": [
        {
          "output_type": "execute_result",
          "data": {
            "text/plain": [
              "0.0015043054289556436"
            ]
          },
          "metadata": {},
          "execution_count": 12
        }
      ]
    },
    {
      "cell_type": "markdown",
      "source": [
        "There is a 0.15% chance a randomly selected female with be between 55 and 56 inches tall\n",
        "\n",
        "# 2"
      ],
      "metadata": {
        "id": "A-GlLHWhXn-9"
      }
    },
    {
      "cell_type": "code",
      "source": [
        "stats.norm.cdf(60, loc=mean, scale=std)"
      ],
      "metadata": {
        "colab": {
          "base_uri": "https://localhost:8080/"
        },
        "id": "cj0G-CHPXwj8",
        "outputId": "d189a444-9210-44cc-8fba-4402b2c16784"
      },
      "execution_count": 13,
      "outputs": [
        {
          "output_type": "execute_result",
          "data": {
            "text/plain": [
              "0.084464927252063"
            ]
          },
          "metadata": {},
          "execution_count": 13
        }
      ]
    },
    {
      "cell_type": "markdown",
      "source": [
        "There is an 8.4% chance a randomly selected female will be less than 5 feet tall\n",
        "\n",
        "# 3"
      ],
      "metadata": {
        "id": "qMH1Z287X8DC"
      }
    },
    {
      "cell_type": "markdown",
      "source": [
        "This is a normal distribution, so mean and median are equal. Therefore, there should be a 50% chance that a randomly selected female will be taller than average."
      ],
      "metadata": {
        "id": "YsLgeaJoYVs6"
      }
    },
    {
      "cell_type": "code",
      "source": [
        "stats.norm.cdf(mean, loc=mean, scale=std)"
      ],
      "metadata": {
        "colab": {
          "base_uri": "https://localhost:8080/"
        },
        "id": "PJa-Evf3YGyw",
        "outputId": "61cda8f2-8723-4625-f6f3-3f021592dc4d"
      },
      "execution_count": 15,
      "outputs": [
        {
          "output_type": "execute_result",
          "data": {
            "text/plain": [
              "0.5"
            ]
          },
          "metadata": {},
          "execution_count": 15
        }
      ]
    },
    {
      "cell_type": "markdown",
      "source": [
        "yup"
      ],
      "metadata": {
        "id": "LIsMILPiYmBz"
      }
    }
  ]
}