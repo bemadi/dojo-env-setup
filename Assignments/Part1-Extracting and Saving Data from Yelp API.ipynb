{
 "cells": [
  {
   "cell_type": "markdown",
   "metadata": {
    "id": "8guYh-VR7nlX"
   },
   "source": [
    "# SOLUTION - Part 1 - Extracting and Saving Data from Yelp API"
   ]
  },
  {
   "cell_type": "markdown",
   "metadata": {},
   "source": [
    "## Obective"
   ]
  },
  {
   "cell_type": "markdown",
   "metadata": {
    "id": "8guYh-VR7nlX"
   },
   "source": [
    "- For this CodeAlong, we will be working with the Yelp API. \n",
    "- You will use the the Yelp API to search your home town for a cuisine type of your choice.\n",
    "- Next class, we will then use Plotly Express to create a map with the Mapbox API to visualize the results.\n",
    "    \n",
    "    "
   ]
  },
  {
   "cell_type": "markdown",
   "metadata": {
    "id": "8guYh-VR7nlX"
   },
   "source": [
    "## Tools You Will Use\n",
    "- Part 1:\n",
    "    - Yelp API:\n",
    "        - Getting Started: \n",
    "            - https://www.yelp.com/developers/documentation/v3/get_started\n",
    "\n",
    "    - `YelpAPI` python package\n",
    "        -  \"YelpAPI\": https://github.com/gfairchild/yelpapi\n",
    "- Part 2:\n",
    "\n",
    "    - Plotly Express: https://plotly.com/python/getting-started/\n",
    "        - With Mapbox API: https://www.mapbox.com/\n",
    "        - `px.scatter_mapbox` [Documentation](https://plotly.com/python/scattermapbox/): \n",
    "\n",
    "\n"
   ]
  },
  {
   "cell_type": "markdown",
   "metadata": {},
   "source": [
    "### Applying Code From\n",
    "- Efficient API Calls Lesson Link: https://login.codingdojo.com/m/376/12529/88078"
   ]
  },
  {
   "cell_type": "code",
   "execution_count": 1,
   "metadata": {},
   "outputs": [],
   "source": [
    "# Standard Imports\n",
    "import numpy as np\n",
    "import pandas as pd\n",
    "import matplotlib.pyplot as plt\n",
    "import seaborn as sns\n",
    "\n",
    "# Additional Imports\n",
    "import os, json, math, time\n",
    "from yelpapi import YelpAPI\n",
    "from tqdm.notebook import tqdm_notebook"
   ]
  },
  {
   "cell_type": "markdown",
   "metadata": {
    "id": "1l3Z-79nBSX9"
   },
   "source": [
    "## 1. Registering for Required APIs"
   ]
  },
  {
   "cell_type": "markdown",
   "metadata": {
    "id": "1l3Z-79nBSX9"
   },
   "source": [
    "\n",
    "- Yelp: https://www.yelp.com/developers/documentation/v3/get_started\n"
   ]
  },
  {
   "cell_type": "markdown",
   "metadata": {},
   "source": [
    "> Check the official API documentation to know what arguments we can search for: https://www.yelp.com/developers/documentation/v3/business_search"
   ]
  },
  {
   "cell_type": "markdown",
   "metadata": {},
   "source": [
    "### Load Credentials and Create Yelp API Object"
   ]
  },
  {
   "cell_type": "code",
   "execution_count": 3,
   "metadata": {
    "ExecuteTime": {
     "end_time": "2022-03-25T18:20:46.629934Z",
     "start_time": "2022-03-25T18:20:45.915864Z"
    },
    "colab": {
     "base_uri": "https://localhost:8080/"
    },
    "id": "xJYqVvNkE36a",
    "outputId": "67798160-dea2-41fc-9040-2b3833efa560"
   },
   "outputs": [
    {
     "data": {
      "text/plain": [
       "dict_keys(['client-id', 'api-key'])"
      ]
     },
     "execution_count": 3,
     "metadata": {},
     "output_type": "execute_result"
    }
   ],
   "source": [
    "# Load API Credentials\n",
    "with open('/Users/Bijan Emadi/.secret/yelp_api.json') as f:   #use your path here!\n",
    "    login = json.load(f)\n",
    "login.keys()"
   ]
  },
  {
   "cell_type": "code",
   "execution_count": 5,
   "metadata": {},
   "outputs": [],
   "source": [
    "# Instantiate YelpAPI Variable\n",
    "yelp_api = YelpAPI(login['api-key'], timeout_s=5.0)"
   ]
  },
  {
   "cell_type": "markdown",
   "metadata": {},
   "source": [
    "### Define Search Terms and File Paths"
   ]
  },
  {
   "cell_type": "code",
   "execution_count": 6,
   "metadata": {},
   "outputs": [],
   "source": [
    "# set our API call parameters and filename before the first call\n",
    "LOCATION = 'Baltimore, MD,21202'\n",
    "TERM = 'Burgers'"
   ]
  },
  {
   "cell_type": "code",
   "execution_count": 7,
   "metadata": {},
   "outputs": [
    {
     "data": {
      "text/plain": [
       "'Data/Burgers-Baltimore.json'"
      ]
     },
     "execution_count": 7,
     "metadata": {},
     "output_type": "execute_result"
    }
   ],
   "source": [
    "## Specify fodler for saving data\n",
    "FOLDER = \"Data/\"\n",
    "os.makedirs(FOLDER, exist_ok=True)\n",
    "\n",
    "# Specifying JSON_FILE filename (can include a folder)\n",
    "JSON_FILE = f\"{FOLDER}{TERM}-{LOCATION.split(',')[0]}.json\"\n",
    "JSON_FILE"
   ]
  },
  {
   "cell_type": "markdown",
   "metadata": {},
   "source": [
    "### Check if Json File exists and Create it if it doesn't"
   ]
  },
  {
   "cell_type": "code",
   "execution_count": 9,
   "metadata": {},
   "outputs": [
    {
     "name": "stdout",
     "output_type": "stream",
     "text": [
      "[i] Data/Burgers-Baltimore.json already exists.\n"
     ]
    }
   ],
   "source": [
    "## Check if JSON_FILE exists\n",
    "file_exists = os.path.isfile(JSON_FILE)\n",
    "\n",
    "## If it does not exist: \n",
    "if file_exists == False:\n",
    "    \n",
    "    ## CREATE ANY NEEDED FOLDERS\n",
    "    # Get the Folder Name only\n",
    "    folder = os.path.dirname(JSON_FILE)\n",
    "    \n",
    "    ## If JSON_FILE included a folder:\n",
    "    if len(folder)>0:\n",
    "        # create the folder\n",
    "        os.makedirs(folder,exist_ok=True)\n",
    "        \n",
    "        \n",
    "    ## INFORM USER AND SAVE EMPTY LIST\n",
    "    print(f\"[i] {JSON_FILE} not found. Saving empty list to file.\")\n",
    "    \n",
    "    \n",
    "    ## save the first page of results\n",
    "    with open(JSON_FILE,'w') as f:\n",
    "        json.dump([],f)  \n",
    "        \n",
    "## If it exists, inform user\n",
    "else:\n",
    "    print(f\"[i] {JSON_FILE} already exists.\")"
   ]
  },
  {
   "cell_type": "markdown",
   "metadata": {},
   "source": [
    "### Load JSON FIle and account for previous results"
   ]
  },
  {
   "cell_type": "code",
   "execution_count": 10,
   "metadata": {},
   "outputs": [
    {
     "name": "stdout",
     "output_type": "stream",
     "text": [
      "- 0 previous results found.\n"
     ]
    }
   ],
   "source": [
    "## Load previous results and use len of results for offset\n",
    "with open(JSON_FILE,'r') as f:\n",
    "    previous_results = json.load(f)\n",
    "    \n",
    "## set offset based on previous results\n",
    "n_results = len(previous_results)\n",
    "print(f'- {n_results} previous results found.')"
   ]
  },
  {
   "cell_type": "markdown",
   "metadata": {},
   "source": [
    "### Make the first API call to get the first page of data"
   ]
  },
  {
   "cell_type": "markdown",
   "metadata": {},
   "source": [
    "- We will use this first result to check:\n",
    "    - how many total results there are?\n",
    "    - Where is the actual data we want to save?\n",
    "    - how many results do we get at a time?\n"
   ]
  },
  {
   "cell_type": "code",
   "execution_count": 11,
   "metadata": {},
   "outputs": [
    {
     "data": {
      "text/plain": [
       "dict_keys(['businesses', 'total', 'region'])"
      ]
     },
     "execution_count": 11,
     "metadata": {},
     "output_type": "execute_result"
    }
   ],
   "source": [
    "# use our yelp_api variable's search_query method to perform our API call\n",
    "results = yelp_api.search_query(location=LOCATION,\n",
    "                                term=TERM,\n",
    "                               offset=n_results+1)\n",
    "results.keys()"
   ]
  },
  {
   "cell_type": "code",
   "execution_count": 12,
   "metadata": {
    "ExecuteTime": {
     "end_time": "2022-03-24T20:01:48.867510Z",
     "start_time": "2022-03-24T20:01:48.854746Z"
    },
    "colab": {
     "base_uri": "https://localhost:8080/"
    },
    "id": "Myur3i1KGhPf",
    "outputId": "f447c6f9-596b-41d0-ccda-50af0ce82108"
   },
   "outputs": [
    {
     "data": {
      "text/plain": [
       "528"
      ]
     },
     "execution_count": 12,
     "metadata": {},
     "output_type": "execute_result"
    }
   ],
   "source": [
    "## How many results total?\n",
    "total_results = results['total']\n",
    "total_results"
   ]
  },
  {
   "cell_type": "markdown",
   "metadata": {},
   "source": [
    "- Where is the actual data we want to save?"
   ]
  },
  {
   "cell_type": "code",
   "execution_count": 13,
   "metadata": {},
   "outputs": [
    {
     "data": {
      "text/plain": [
       "[{'id': 'AQ56plNP56TIk3JswtoiMA',\n",
       "  'alias': 'abbey-burger-bistro-baltimore-4',\n",
       "  'name': 'Abbey Burger Bistro',\n",
       "  'image_url': 'https://s3-media4.fl.yelpcdn.com/bphoto/_ZZ4nIpyKbeP_5xK5Zf6tQ/o.jpg',\n",
       "  'is_closed': False,\n",
       "  'url': 'https://www.yelp.com/biz/abbey-burger-bistro-baltimore-4?adjust_creative=XsFzRbL2g2_AePzT00ptog&utm_campaign=yelp_api_v3&utm_medium=api_v3_business_search&utm_source=XsFzRbL2g2_AePzT00ptog',\n",
       "  'review_count': 916,\n",
       "  'categories': [{'alias': 'sportsbars', 'title': 'Sports Bars'},\n",
       "   {'alias': 'tradamerican', 'title': 'American (Traditional)'}],\n",
       "  'rating': 4.0,\n",
       "  'coordinates': {'latitude': 39.2771835822848,\n",
       "   'longitude': -76.6129885794452},\n",
       "  'transactions': ['delivery', 'pickup'],\n",
       "  'price': '$$',\n",
       "  'location': {'address1': '1041 Marshall St',\n",
       "   'address2': '',\n",
       "   'address3': '',\n",
       "   'city': 'Baltimore',\n",
       "   'zip_code': '21230',\n",
       "   'country': 'US',\n",
       "   'state': 'MD',\n",
       "   'display_address': ['1041 Marshall St', 'Baltimore, MD 21230']},\n",
       "  'phone': '+14434539698',\n",
       "  'display_phone': '(443) 453-9698',\n",
       "  'distance': 2161.212353352811},\n",
       " {'id': '5CM8nuqd0od68GqQ-UGicQ',\n",
       "  'alias': 'cookhouse-baltimore-2',\n",
       "  'name': 'CookHouse',\n",
       "  'image_url': 'https://s3-media2.fl.yelpcdn.com/bphoto/N-2JWjDaDqu_BKjGeXJz7Q/o.jpg',\n",
       "  'is_closed': False,\n",
       "  'url': 'https://www.yelp.com/biz/cookhouse-baltimore-2?adjust_creative=XsFzRbL2g2_AePzT00ptog&utm_campaign=yelp_api_v3&utm_medium=api_v3_business_search&utm_source=XsFzRbL2g2_AePzT00ptog',\n",
       "  'review_count': 21,\n",
       "  'categories': [{'alias': 'newamerican', 'title': 'American (New)'},\n",
       "   {'alias': 'cocktailbars', 'title': 'Cocktail Bars'}],\n",
       "  'rating': 5.0,\n",
       "  'coordinates': {'latitude': 39.30715667, 'longitude': -76.62584833},\n",
       "  'transactions': ['delivery', 'pickup'],\n",
       "  'location': {'address1': '1501 Bolton St',\n",
       "   'address2': None,\n",
       "   'address3': '',\n",
       "   'city': 'Baltimore',\n",
       "   'zip_code': '21217',\n",
       "   'country': 'US',\n",
       "   'state': 'MD',\n",
       "   'display_address': ['1501 Bolton St', 'Baltimore, MD 21217']},\n",
       "  'phone': '+14102259964',\n",
       "  'display_phone': '(410) 225-9964',\n",
       "  'distance': 1990.07895603796},\n",
       " {'id': '3j6GTI0V2Jshw8e1c3uFoA',\n",
       "  'alias': 'the-urban-burger-bar-baltimore',\n",
       "  'name': 'The Urban Burger Bar',\n",
       "  'image_url': 'https://s3-media4.fl.yelpcdn.com/bphoto/1zNJ5cfmhUAetoEkp53Rcg/o.jpg',\n",
       "  'is_closed': False,\n",
       "  'url': 'https://www.yelp.com/biz/the-urban-burger-bar-baltimore?adjust_creative=XsFzRbL2g2_AePzT00ptog&utm_campaign=yelp_api_v3&utm_medium=api_v3_business_search&utm_source=XsFzRbL2g2_AePzT00ptog',\n",
       "  'review_count': 35,\n",
       "  'categories': [{'alias': 'burgers', 'title': 'Burgers'}],\n",
       "  'rating': 4.5,\n",
       "  'coordinates': {'latitude': 39.32696, 'longitude': -76.63753},\n",
       "  'transactions': ['delivery', 'pickup'],\n",
       "  'price': '$$',\n",
       "  'location': {'address1': '3300 Clipper Mill Rd',\n",
       "   'address2': '',\n",
       "   'address3': None,\n",
       "   'city': 'Baltimore',\n",
       "   'zip_code': '21211',\n",
       "   'country': 'US',\n",
       "   'state': 'MD',\n",
       "   'display_address': ['3300 Clipper Mill Rd', 'Baltimore, MD 21211']},\n",
       "  'phone': '',\n",
       "  'display_phone': '',\n",
       "  'distance': 4242.702639113149},\n",
       " {'id': 'QHVUhI8JBAcqGj1JufDcHw',\n",
       "  'alias': 'wiley-gunters-baltimore',\n",
       "  'name': 'Wiley Gunters',\n",
       "  'image_url': 'https://s3-media3.fl.yelpcdn.com/bphoto/Lc-4k9vMnFUDY3R4fUet-A/o.jpg',\n",
       "  'is_closed': False,\n",
       "  'url': 'https://www.yelp.com/biz/wiley-gunters-baltimore?adjust_creative=XsFzRbL2g2_AePzT00ptog&utm_campaign=yelp_api_v3&utm_medium=api_v3_business_search&utm_source=XsFzRbL2g2_AePzT00ptog',\n",
       "  'review_count': 136,\n",
       "  'categories': [{'alias': 'burgers', 'title': 'Burgers'},\n",
       "   {'alias': 'sportsbars', 'title': 'Sports Bars'},\n",
       "   {'alias': 'beerbar', 'title': 'Beer Bar'}],\n",
       "  'rating': 4.5,\n",
       "  'coordinates': {'latitude': 39.27174, 'longitude': -76.60223},\n",
       "  'transactions': ['delivery', 'pickup'],\n",
       "  'price': '$$',\n",
       "  'location': {'address1': '823 E Fort Ave',\n",
       "   'address2': '',\n",
       "   'address3': '',\n",
       "   'city': 'Baltimore',\n",
       "   'zip_code': '21230',\n",
       "   'country': 'US',\n",
       "   'state': 'MD',\n",
       "   'display_address': ['823 E Fort Ave', 'Baltimore, MD 21230']},\n",
       "  'phone': '+14106373699',\n",
       "  'display_phone': '(410) 637-3699',\n",
       "  'distance': 2754.9954665346213},\n",
       " {'id': 'DnhKT0A9OIgFdIhzNryJBw',\n",
       "  'alias': 'abbey-burger-bistro-baltimore-6',\n",
       "  'name': 'Abbey Burger Bistro',\n",
       "  'image_url': 'https://s3-media3.fl.yelpcdn.com/bphoto/oq4-Iymnf8mgQ2WkYH4_ig/o.jpg',\n",
       "  'is_closed': False,\n",
       "  'url': 'https://www.yelp.com/biz/abbey-burger-bistro-baltimore-6?adjust_creative=XsFzRbL2g2_AePzT00ptog&utm_campaign=yelp_api_v3&utm_medium=api_v3_business_search&utm_source=XsFzRbL2g2_AePzT00ptog',\n",
       "  'review_count': 268,\n",
       "  'categories': [{'alias': 'tradamerican', 'title': 'American (Traditional)'},\n",
       "   {'alias': 'burgers', 'title': 'Burgers'}],\n",
       "  'rating': 4.0,\n",
       "  'coordinates': {'latitude': 39.2822776123555,\n",
       "   'longitude': -76.5927489101887},\n",
       "  'transactions': ['delivery', 'pickup'],\n",
       "  'price': '$$',\n",
       "  'location': {'address1': '811 S Broadway',\n",
       "   'address2': '',\n",
       "   'address3': '',\n",
       "   'city': 'Baltimore',\n",
       "   'zip_code': '21231',\n",
       "   'country': 'US',\n",
       "   'state': 'MD',\n",
       "   'display_address': ['811 S Broadway', 'Baltimore, MD 21231']},\n",
       "  'phone': '+14105221428',\n",
       "  'display_phone': '(410) 522-1428',\n",
       "  'distance': 2009.2757033273615},\n",
       " {'id': 'WRz58h4VB9nadcyar4LGvQ',\n",
       "  'alias': 'wet-city-baltimore',\n",
       "  'name': 'Wet City',\n",
       "  'image_url': 'https://s3-media4.fl.yelpcdn.com/bphoto/8L30rMvLw1oSa9l0bT4DEQ/o.jpg',\n",
       "  'is_closed': False,\n",
       "  'url': 'https://www.yelp.com/biz/wet-city-baltimore?adjust_creative=XsFzRbL2g2_AePzT00ptog&utm_campaign=yelp_api_v3&utm_medium=api_v3_business_search&utm_source=XsFzRbL2g2_AePzT00ptog',\n",
       "  'review_count': 160,\n",
       "  'categories': [{'alias': 'beerbar', 'title': 'Beer Bar'},\n",
       "   {'alias': 'pubs', 'title': 'Pubs'},\n",
       "   {'alias': 'gastropubs', 'title': 'Gastropubs'}],\n",
       "  'rating': 4.0,\n",
       "  'coordinates': {'latitude': 39.3016090393066,\n",
       "   'longitude': -76.6189498901367},\n",
       "  'transactions': ['delivery'],\n",
       "  'price': '$$',\n",
       "  'location': {'address1': '223 W Chase St',\n",
       "   'address2': '',\n",
       "   'address3': '',\n",
       "   'city': 'Baltimore',\n",
       "   'zip_code': '21201',\n",
       "   'country': 'US',\n",
       "   'state': 'MD',\n",
       "   'display_address': ['223 W Chase St', 'Baltimore, MD 21201']},\n",
       "  'phone': '+14438736699',\n",
       "  'display_phone': '(443) 873-6699',\n",
       "  'distance': 1143.8733798625783},\n",
       " {'id': 'jvKhto6__tCGfs2N27oWdg',\n",
       "  'alias': 'the-outpost-american-tavern-baltimore-2',\n",
       "  'name': 'The Outpost American Tavern',\n",
       "  'image_url': 'https://s3-media2.fl.yelpcdn.com/bphoto/4bN4vAWZCpGJjO_Axo9QGg/o.jpg',\n",
       "  'is_closed': False,\n",
       "  'url': 'https://www.yelp.com/biz/the-outpost-american-tavern-baltimore-2?adjust_creative=XsFzRbL2g2_AePzT00ptog&utm_campaign=yelp_api_v3&utm_medium=api_v3_business_search&utm_source=XsFzRbL2g2_AePzT00ptog',\n",
       "  'review_count': 183,\n",
       "  'categories': [{'alias': 'bars', 'title': 'Bars'},\n",
       "   {'alias': 'tradamerican', 'title': 'American (Traditional)'},\n",
       "   {'alias': 'sandwiches', 'title': 'Sandwiches'}],\n",
       "  'rating': 4.5,\n",
       "  'coordinates': {'latitude': 39.2774761241692,\n",
       "   'longitude': -76.6091799999978},\n",
       "  'transactions': ['delivery', 'pickup'],\n",
       "  'price': '$$',\n",
       "  'location': {'address1': '1032 Riverside Ave',\n",
       "   'address2': '',\n",
       "   'address3': None,\n",
       "   'city': 'Baltimore',\n",
       "   'zip_code': '21230',\n",
       "   'country': 'US',\n",
       "   'state': 'MD',\n",
       "   'display_address': ['1032 Riverside Ave', 'Baltimore, MD 21230']},\n",
       "  'phone': '+14433889113',\n",
       "  'display_phone': '(443) 388-9113',\n",
       "  'distance': 2083.6576473630867},\n",
       " {'id': 'LkCSwCV-WX2eCnv5RUM3Kw',\n",
       "  'alias': '311-west-madison-ave-craft-beer-and-wine-restaurant-baltimore',\n",
       "  'name': '311 West Madison Ave Craft Beer & Wine Restaurant',\n",
       "  'image_url': 'https://s3-media1.fl.yelpcdn.com/bphoto/g7er6AzyQ0_oF6FoFTo0MA/o.jpg',\n",
       "  'is_closed': False,\n",
       "  'url': 'https://www.yelp.com/biz/311-west-madison-ave-craft-beer-and-wine-restaurant-baltimore?adjust_creative=XsFzRbL2g2_AePzT00ptog&utm_campaign=yelp_api_v3&utm_medium=api_v3_business_search&utm_source=XsFzRbL2g2_AePzT00ptog',\n",
       "  'review_count': 6,\n",
       "  'categories': [{'alias': 'bars', 'title': 'Bars'},\n",
       "   {'alias': 'burgers', 'title': 'Burgers'},\n",
       "   {'alias': 'newamerican', 'title': 'American (New)'}],\n",
       "  'rating': 4.0,\n",
       "  'coordinates': {'latitude': 39.298216, 'longitude': -76.620656},\n",
       "  'transactions': ['delivery', 'pickup'],\n",
       "  'location': {'address1': '311 W Madison St',\n",
       "   'address2': None,\n",
       "   'address3': '',\n",
       "   'city': 'Baltimore',\n",
       "   'zip_code': '21201',\n",
       "   'country': 'US',\n",
       "   'state': 'MD',\n",
       "   'display_address': ['311 W Madison St', 'Baltimore, MD 21201']},\n",
       "  'phone': '+14439389109',\n",
       "  'display_phone': '(443) 938-9109',\n",
       "  'distance': 1141.1605104199282},\n",
       " {'id': 'GOvVNYe2DwjGzwdVJIKw1Q',\n",
       "  'alias': 'wicked-sisters-tavern-baltimore',\n",
       "  'name': 'Wicked Sisters Tavern',\n",
       "  'image_url': 'https://s3-media2.fl.yelpcdn.com/bphoto/XdSbMUXtU7HvY8ZgPkD8fQ/o.jpg',\n",
       "  'is_closed': False,\n",
       "  'url': 'https://www.yelp.com/biz/wicked-sisters-tavern-baltimore?adjust_creative=XsFzRbL2g2_AePzT00ptog&utm_campaign=yelp_api_v3&utm_medium=api_v3_business_search&utm_source=XsFzRbL2g2_AePzT00ptog',\n",
       "  'review_count': 579,\n",
       "  'categories': [{'alias': 'tradamerican', 'title': 'American (Traditional)'}],\n",
       "  'rating': 4.0,\n",
       "  'coordinates': {'latitude': 39.3350187678809,\n",
       "   'longitude': -76.6363579077745},\n",
       "  'transactions': ['delivery', 'pickup'],\n",
       "  'price': '$$',\n",
       "  'location': {'address1': '3845 Falls Rd',\n",
       "   'address2': '',\n",
       "   'address3': None,\n",
       "   'city': 'Baltimore',\n",
       "   'zip_code': '21211',\n",
       "   'country': 'US',\n",
       "   'state': 'MD',\n",
       "   'display_address': ['3845 Falls Rd', 'Baltimore, MD 21211']},\n",
       "  'phone': '+14108780884',\n",
       "  'display_phone': '(410) 878-0884',\n",
       "  'distance': 4974.443761753821},\n",
       " {'id': 'L_cDwPh8kuxkEP-VXjJF-A',\n",
       "  'alias': 'shake-shack-baltimore',\n",
       "  'name': 'Shake Shack',\n",
       "  'image_url': 'https://s3-media2.fl.yelpcdn.com/bphoto/cORtQVNtWDwWHR2QgEreyw/o.jpg',\n",
       "  'is_closed': False,\n",
       "  'url': 'https://www.yelp.com/biz/shake-shack-baltimore?adjust_creative=XsFzRbL2g2_AePzT00ptog&utm_campaign=yelp_api_v3&utm_medium=api_v3_business_search&utm_source=XsFzRbL2g2_AePzT00ptog',\n",
       "  'review_count': 520,\n",
       "  'categories': [{'alias': 'newamerican', 'title': 'American (New)'},\n",
       "   {'alias': 'burgers', 'title': 'Burgers'},\n",
       "   {'alias': 'icecream', 'title': 'Ice Cream & Frozen Yogurt'}],\n",
       "  'rating': 3.5,\n",
       "  'coordinates': {'latitude': 39.2871081, 'longitude': -76.6092275},\n",
       "  'transactions': ['delivery', 'pickup'],\n",
       "  'price': '$$',\n",
       "  'location': {'address1': '400 Pratt St',\n",
       "   'address2': '',\n",
       "   'address3': '',\n",
       "   'city': 'Baltimore',\n",
       "   'zip_code': '21202',\n",
       "   'country': 'US',\n",
       "   'state': 'MD',\n",
       "   'display_address': ['400 Pratt St', 'Baltimore, MD 21202']},\n",
       "  'phone': '+14439733629',\n",
       "  'display_phone': '(443) 973-3629',\n",
       "  'distance': 1017.4666413623578},\n",
       " {'id': 'lx6ZQjgZDvL0Rz9LmXtTKg',\n",
       "  'alias': 'charmed-baltimore',\n",
       "  'name': 'Charmed.',\n",
       "  'image_url': 'https://s3-media2.fl.yelpcdn.com/bphoto/e9AV7X8oamvpklsugp8jCQ/o.jpg',\n",
       "  'is_closed': False,\n",
       "  'url': 'https://www.yelp.com/biz/charmed-baltimore?adjust_creative=XsFzRbL2g2_AePzT00ptog&utm_campaign=yelp_api_v3&utm_medium=api_v3_business_search&utm_source=XsFzRbL2g2_AePzT00ptog',\n",
       "  'review_count': 72,\n",
       "  'categories': [{'alias': 'newamerican', 'title': 'American (New)'},\n",
       "   {'alias': 'cafes', 'title': 'Cafes'}],\n",
       "  'rating': 5.0,\n",
       "  'coordinates': {'latitude': 39.29951, 'longitude': -76.61334},\n",
       "  'transactions': ['delivery', 'pickup'],\n",
       "  'location': {'address1': '824 N Calvert St',\n",
       "   'address2': None,\n",
       "   'address3': '',\n",
       "   'city': 'Baltimore',\n",
       "   'zip_code': '21202',\n",
       "   'country': 'US',\n",
       "   'state': 'MD',\n",
       "   'display_address': ['824 N Calvert St', 'Baltimore, MD 21202']},\n",
       "  'phone': '+14438352803',\n",
       "  'display_phone': '(443) 835-2803',\n",
       "  'distance': 609.3291173464794},\n",
       " {'id': 'S3keMV3sQjujV-oA-Ymxog',\n",
       "  'alias': 'between-2-buns-baltimore-2',\n",
       "  'name': 'Between 2 Buns',\n",
       "  'image_url': 'https://s3-media1.fl.yelpcdn.com/bphoto/wfTqwH5shtXJNIMBry-BBQ/o.jpg',\n",
       "  'is_closed': False,\n",
       "  'url': 'https://www.yelp.com/biz/between-2-buns-baltimore-2?adjust_creative=XsFzRbL2g2_AePzT00ptog&utm_campaign=yelp_api_v3&utm_medium=api_v3_business_search&utm_source=XsFzRbL2g2_AePzT00ptog',\n",
       "  'review_count': 163,\n",
       "  'categories': [{'alias': 'burgers', 'title': 'Burgers'},\n",
       "   {'alias': 'hotdogs', 'title': 'Fast Food'}],\n",
       "  'rating': 3.5,\n",
       "  'coordinates': {'latitude': 39.29588539090596,\n",
       "   'longitude': -76.61848222083206},\n",
       "  'transactions': ['delivery'],\n",
       "  'price': '$$',\n",
       "  'location': {'address1': '520 Park Ave',\n",
       "   'address2': '',\n",
       "   'address3': 'Mount Vernon Marketplace',\n",
       "   'city': 'Baltimore',\n",
       "   'zip_code': '21201',\n",
       "   'country': 'US',\n",
       "   'state': 'MD',\n",
       "   'display_address': ['520 Park Ave',\n",
       "    'Mount Vernon Marketplace',\n",
       "    'Baltimore, MD 21201']},\n",
       "  'phone': '+16673033273',\n",
       "  'display_phone': '(667) 303-3273',\n",
       "  'distance': 931.3243810613322},\n",
       " {'id': '6PLtSs9Bi4QDSNBM_u4fNg',\n",
       "  'alias': 'the-brewers-art-baltimore',\n",
       "  'name': \"The Brewer's Art\",\n",
       "  'image_url': 'https://s3-media1.fl.yelpcdn.com/bphoto/2pkJFgRcf3G_dYopNnaGKA/o.jpg',\n",
       "  'is_closed': False,\n",
       "  'url': 'https://www.yelp.com/biz/the-brewers-art-baltimore?adjust_creative=XsFzRbL2g2_AePzT00ptog&utm_campaign=yelp_api_v3&utm_medium=api_v3_business_search&utm_source=XsFzRbL2g2_AePzT00ptog',\n",
       "  'review_count': 1041,\n",
       "  'categories': [{'alias': 'breweries', 'title': 'Breweries'},\n",
       "   {'alias': 'modern_european', 'title': 'Modern European'},\n",
       "   {'alias': 'belgian', 'title': 'Belgian'}],\n",
       "  'rating': 4.0,\n",
       "  'coordinates': {'latitude': 39.302825295486, 'longitude': -76.616179918669},\n",
       "  'transactions': ['delivery', 'pickup'],\n",
       "  'price': '$$',\n",
       "  'location': {'address1': '1106 N Charles St',\n",
       "   'address2': '',\n",
       "   'address3': '',\n",
       "   'city': 'Baltimore',\n",
       "   'zip_code': '21201',\n",
       "   'country': 'US',\n",
       "   'state': 'MD',\n",
       "   'display_address': ['1106 N Charles St', 'Baltimore, MD 21201']},\n",
       "  'phone': '+14105476925',\n",
       "  'display_phone': '(410) 547-6925',\n",
       "  'distance': 1040.6716769983216},\n",
       " {'id': 'O9BL2DJA9QKnvG2P2LfLUg',\n",
       "  'alias': 'lucky-buns-baltimore',\n",
       "  'name': 'Lucky Buns',\n",
       "  'image_url': 'https://s3-media1.fl.yelpcdn.com/bphoto/9eCYj2nlIPkEoB2L-f4dBA/o.jpg',\n",
       "  'is_closed': False,\n",
       "  'url': 'https://www.yelp.com/biz/lucky-buns-baltimore?adjust_creative=XsFzRbL2g2_AePzT00ptog&utm_campaign=yelp_api_v3&utm_medium=api_v3_business_search&utm_source=XsFzRbL2g2_AePzT00ptog',\n",
       "  'review_count': 23,\n",
       "  'categories': [{'alias': 'burgers', 'title': 'Burgers'},\n",
       "   {'alias': 'cocktailbars', 'title': 'Cocktail Bars'},\n",
       "   {'alias': 'chicken_wings', 'title': 'Chicken Wings'}],\n",
       "  'rating': 4.5,\n",
       "  'coordinates': {'latitude': 39.28135, 'longitude': -76.58984},\n",
       "  'transactions': ['delivery', 'pickup'],\n",
       "  'price': '$$',\n",
       "  'location': {'address1': '918 1/2 S Wolfe St',\n",
       "   'address2': '',\n",
       "   'address3': None,\n",
       "   'city': 'Baltimore',\n",
       "   'zip_code': '21231',\n",
       "   'country': 'US',\n",
       "   'state': 'MD',\n",
       "   'display_address': ['918 1/2 S Wolfe St', 'Baltimore, MD 21231']},\n",
       "  'phone': '+14434383916',\n",
       "  'display_phone': '(443) 438-3916',\n",
       "  'distance': 2254.873402438621},\n",
       " {'id': 'yITYeW3JZS557DIXj9Ivhg',\n",
       "  'alias': 'mick-o-sheas-baltimore',\n",
       "  'name': \"Mick O'Shea's\",\n",
       "  'image_url': 'https://s3-media1.fl.yelpcdn.com/bphoto/zPk7LsERGz8moGdq6G7k2Q/o.jpg',\n",
       "  'is_closed': False,\n",
       "  'url': 'https://www.yelp.com/biz/mick-o-sheas-baltimore?adjust_creative=XsFzRbL2g2_AePzT00ptog&utm_campaign=yelp_api_v3&utm_medium=api_v3_business_search&utm_source=XsFzRbL2g2_AePzT00ptog',\n",
       "  'review_count': 291,\n",
       "  'categories': [{'alias': 'pubs', 'title': 'Pubs'},\n",
       "   {'alias': 'irish', 'title': 'Irish'},\n",
       "   {'alias': 'burgers', 'title': 'Burgers'}],\n",
       "  'rating': 4.0,\n",
       "  'coordinates': {'latitude': 39.293462, 'longitude': -76.615586},\n",
       "  'transactions': ['delivery', 'pickup'],\n",
       "  'price': '$$',\n",
       "  'location': {'address1': '328 N Charles St',\n",
       "   'address2': '',\n",
       "   'address3': '',\n",
       "   'city': 'Baltimore',\n",
       "   'zip_code': '21201',\n",
       "   'country': 'US',\n",
       "   'state': 'MD',\n",
       "   'display_address': ['328 N Charles St', 'Baltimore, MD 21201']},\n",
       "  'phone': '+14105397504',\n",
       "  'display_phone': '(410) 539-7504',\n",
       "  'distance': 745.4681839527719},\n",
       " {'id': 'TL34QOmDmMtJmsabvPLErg',\n",
       "  'alias': 'annabel-lee-tavern-baltimore',\n",
       "  'name': 'Annabel Lee Tavern',\n",
       "  'image_url': 'https://s3-media2.fl.yelpcdn.com/bphoto/dh6k0b51-GEggohxYvJc3A/o.jpg',\n",
       "  'is_closed': False,\n",
       "  'url': 'https://www.yelp.com/biz/annabel-lee-tavern-baltimore?adjust_creative=XsFzRbL2g2_AePzT00ptog&utm_campaign=yelp_api_v3&utm_medium=api_v3_business_search&utm_source=XsFzRbL2g2_AePzT00ptog',\n",
       "  'review_count': 611,\n",
       "  'categories': [{'alias': 'pubs', 'title': 'Pubs'},\n",
       "   {'alias': 'newamerican', 'title': 'American (New)'}],\n",
       "  'rating': 4.5,\n",
       "  'coordinates': {'latitude': 39.28538, 'longitude': -76.56961},\n",
       "  'transactions': ['delivery', 'pickup', 'restaurant_reservation'],\n",
       "  'price': '$$',\n",
       "  'location': {'address1': '601 S Clinton St',\n",
       "   'address2': '',\n",
       "   'address3': '',\n",
       "   'city': 'Baltimore',\n",
       "   'zip_code': '21224',\n",
       "   'country': 'US',\n",
       "   'state': 'MD',\n",
       "   'display_address': ['601 S Clinton St', 'Baltimore, MD 21224']},\n",
       "  'phone': '+14105222929',\n",
       "  'display_phone': '(410) 522-2929',\n",
       "  'distance': 3485.0458208677787},\n",
       " {'id': 'O7EO2AHxQXRHL1fqodpg7Q',\n",
       "  'alias': 'daily-special-authentic-mexican-grill-baltimore-3',\n",
       "  'name': 'Daily Special authentic mexican grill',\n",
       "  'image_url': 'https://s3-media2.fl.yelpcdn.com/bphoto/76IbRS-FW9XCx03SCCcBnQ/o.jpg',\n",
       "  'is_closed': False,\n",
       "  'url': 'https://www.yelp.com/biz/daily-special-authentic-mexican-grill-baltimore-3?adjust_creative=XsFzRbL2g2_AePzT00ptog&utm_campaign=yelp_api_v3&utm_medium=api_v3_business_search&utm_source=XsFzRbL2g2_AePzT00ptog',\n",
       "  'review_count': 25,\n",
       "  'categories': [{'alias': 'burgers', 'title': 'Burgers'},\n",
       "   {'alias': 'juicebars', 'title': 'Juice Bars & Smoothies'},\n",
       "   {'alias': 'mexican', 'title': 'Mexican'}],\n",
       "  'rating': 4.5,\n",
       "  'coordinates': {'latitude': 39.29133, 'longitude': -76.61497},\n",
       "  'transactions': ['delivery', 'pickup', 'restaurant_reservation'],\n",
       "  'location': {'address1': '201 N Charles St',\n",
       "   'address2': None,\n",
       "   'address3': '',\n",
       "   'city': 'Baltimore',\n",
       "   'zip_code': '21201',\n",
       "   'country': 'US',\n",
       "   'state': 'MD',\n",
       "   'display_address': ['201 N Charles St', 'Baltimore, MD 21201']},\n",
       "  'phone': '+14106895603',\n",
       "  'display_phone': '(410) 689-5603',\n",
       "  'distance': 818.3375947996358},\n",
       " {'id': '8xyl44uoylj8cxPnH741aQ',\n",
       "  'alias': 'noisy-burger-baltimore',\n",
       "  'name': 'Noisy Burger',\n",
       "  'image_url': 'https://s3-media3.fl.yelpcdn.com/bphoto/Gb_hF0VJF30Ntl_OxJX4vA/o.jpg',\n",
       "  'is_closed': False,\n",
       "  'url': 'https://www.yelp.com/biz/noisy-burger-baltimore?adjust_creative=XsFzRbL2g2_AePzT00ptog&utm_campaign=yelp_api_v3&utm_medium=api_v3_business_search&utm_source=XsFzRbL2g2_AePzT00ptog',\n",
       "  'review_count': 17,\n",
       "  'categories': [{'alias': 'burgers', 'title': 'Burgers'}],\n",
       "  'rating': 4.0,\n",
       "  'coordinates': {'latitude': 39.3217276, 'longitude': -76.6222487576701},\n",
       "  'transactions': ['delivery', 'pickup'],\n",
       "  'location': {'address1': '301 W 29th St',\n",
       "   'address2': None,\n",
       "   'address3': '',\n",
       "   'city': 'Baltimore',\n",
       "   'zip_code': '21211',\n",
       "   'country': 'US',\n",
       "   'state': 'MD',\n",
       "   'display_address': ['301 W 29th St', 'Baltimore, MD 21211']},\n",
       "  'phone': '+14436811906',\n",
       "  'display_phone': '(443) 681-1906',\n",
       "  'distance': 3105.663543006425},\n",
       " {'id': 't0EA_fXewpQWfzWMrpNjIw',\n",
       "  'alias': 'peters-pour-house-baltimore',\n",
       "  'name': \"Peter's Pour House\",\n",
       "  'image_url': 'https://s3-media3.fl.yelpcdn.com/bphoto/A5kRmG6uiu3L1vStpcRK-g/o.jpg',\n",
       "  'is_closed': False,\n",
       "  'url': 'https://www.yelp.com/biz/peters-pour-house-baltimore?adjust_creative=XsFzRbL2g2_AePzT00ptog&utm_campaign=yelp_api_v3&utm_medium=api_v3_business_search&utm_source=XsFzRbL2g2_AePzT00ptog',\n",
       "  'review_count': 231,\n",
       "  'categories': [{'alias': 'tradamerican', 'title': 'American (Traditional)'},\n",
       "   {'alias': 'pubs', 'title': 'Pubs'}],\n",
       "  'rating': 4.0,\n",
       "  'coordinates': {'latitude': 39.28841, 'longitude': -76.61299},\n",
       "  'transactions': ['delivery', 'pickup'],\n",
       "  'price': '$$',\n",
       "  'location': {'address1': '111 Mercer St',\n",
       "   'address2': None,\n",
       "   'address3': '',\n",
       "   'city': 'Baltimore',\n",
       "   'zip_code': '21202',\n",
       "   'country': 'US',\n",
       "   'state': 'MD',\n",
       "   'display_address': ['111 Mercer St', 'Baltimore, MD 21202']},\n",
       "  'phone': '+14105395818',\n",
       "  'display_phone': '(410) 539-5818',\n",
       "  'distance': 978.5679088399228},\n",
       " {'id': 'qacEwnyfS5Vb6qo5JePkgQ',\n",
       "  'alias': 'bar-1801-baltimore',\n",
       "  'name': 'BAR 1801',\n",
       "  'image_url': 'https://s3-media2.fl.yelpcdn.com/bphoto/kZnXP0Egqnh5qjd-FO_nCg/o.jpg',\n",
       "  'is_closed': False,\n",
       "  'url': 'https://www.yelp.com/biz/bar-1801-baltimore?adjust_creative=XsFzRbL2g2_AePzT00ptog&utm_campaign=yelp_api_v3&utm_medium=api_v3_business_search&utm_source=XsFzRbL2g2_AePzT00ptog',\n",
       "  'review_count': 8,\n",
       "  'categories': [{'alias': 'bars', 'title': 'Bars'},\n",
       "   {'alias': 'salad', 'title': 'Salad'},\n",
       "   {'alias': 'burgers', 'title': 'Burgers'}],\n",
       "  'rating': 5.0,\n",
       "  'coordinates': {'latitude': 39.29031, 'longitude': -76.59149},\n",
       "  'transactions': [],\n",
       "  'location': {'address1': '1801 E Lombard St',\n",
       "   'address2': '',\n",
       "   'address3': None,\n",
       "   'city': 'Baltimore',\n",
       "   'zip_code': '21231',\n",
       "   'country': 'US',\n",
       "   'state': 'MD',\n",
       "   'display_address': ['1801 E Lombard St', 'Baltimore, MD 21231']},\n",
       "  'phone': '',\n",
       "  'display_phone': '',\n",
       "  'distance': 1531.9267711192917}]"
      ]
     },
     "execution_count": 13,
     "metadata": {},
     "output_type": "execute_result"
    }
   ],
   "source": [
    "results['businesses']"
   ]
  },
  {
   "cell_type": "code",
   "execution_count": 14,
   "metadata": {},
   "outputs": [
    {
     "data": {
      "text/plain": [
       "20"
      ]
     },
     "execution_count": 14,
     "metadata": {},
     "output_type": "execute_result"
    }
   ],
   "source": [
    "## How many did we get the details for?\n",
    "results_per_page = len(results['businesses'])\n",
    "results_per_page"
   ]
  },
  {
   "cell_type": "markdown",
   "metadata": {},
   "source": [
    "- Calculate how many pages of results needed to cover the total_results"
   ]
  },
  {
   "cell_type": "code",
   "execution_count": 15,
   "metadata": {},
   "outputs": [
    {
     "data": {
      "text/plain": [
       "27"
      ]
     },
     "execution_count": 15,
     "metadata": {},
     "output_type": "execute_result"
    }
   ],
   "source": [
    "# Import additional packages for controlling our loop\n",
    "import time, math\n",
    "# Use math.ceil to round up for the total number of pages of results.\n",
    "n_pages = math.ceil((results['total']-n_results)/ results_per_page)\n",
    "n_pages"
   ]
  },
  {
   "cell_type": "code",
   "execution_count": 16,
   "metadata": {},
   "outputs": [
    {
     "data": {
      "application/vnd.jupyter.widget-view+json": {
       "model_id": "80083d2e6eb24913bc5b861393cca15a",
       "version_major": 2,
       "version_minor": 0
      },
      "text/plain": [
       "  0%|          | 0/27 [00:00<?, ?it/s]"
      ]
     },
     "metadata": {},
     "output_type": "display_data"
    }
   ],
   "source": [
    "for i in tqdm_notebook( range(1,n_pages+1)):\n",
    "    ## The block of code we want to TRY to run\n",
    "    try:\n",
    "        \n",
    "        time.sleep(.2)\n",
    "        \n",
    "        ## Read in results in progress file and check the length\n",
    "        with open(JSON_FILE, 'r') as f:\n",
    "            previous_results = json.load(f)\n",
    "            \n",
    "        ## save number of results for to use as offset\n",
    "        n_results = len(previous_results)\n",
    "        \n",
    "        \n",
    "        ## use n_results as the OFFSET \n",
    "        results = yelp_api.search_query(location=LOCATION,\n",
    "                                        term=TERM, \n",
    "                                        offset=n_results+1)\n",
    "\n",
    "        ## append new results and save to file\n",
    "        previous_results.extend(results['businesses'])\n",
    "\n",
    "        with open(JSON_FILE,'w') as f:\n",
    "            json.dump(previous_results,f)\n",
    "            \n",
    "    ## What to do if we get an error/exception.\n",
    "    except Exception as e: # saving the error message so we can print it.\n",
    "        print('[!] ERROR: ',e)"
   ]
  },
  {
   "cell_type": "markdown",
   "metadata": {},
   "source": [
    "## Open the Final JSON File with Pandas"
   ]
  },
  {
   "cell_type": "code",
   "execution_count": 17,
   "metadata": {},
   "outputs": [
    {
     "data": {
      "text/html": [
       "<div>\n",
       "<style scoped>\n",
       "    .dataframe tbody tr th:only-of-type {\n",
       "        vertical-align: middle;\n",
       "    }\n",
       "\n",
       "    .dataframe tbody tr th {\n",
       "        vertical-align: top;\n",
       "    }\n",
       "\n",
       "    .dataframe thead th {\n",
       "        text-align: right;\n",
       "    }\n",
       "</style>\n",
       "<table border=\"1\" class=\"dataframe\">\n",
       "  <thead>\n",
       "    <tr style=\"text-align: right;\">\n",
       "      <th></th>\n",
       "      <th>id</th>\n",
       "      <th>alias</th>\n",
       "      <th>name</th>\n",
       "      <th>image_url</th>\n",
       "      <th>is_closed</th>\n",
       "      <th>url</th>\n",
       "      <th>review_count</th>\n",
       "      <th>categories</th>\n",
       "      <th>rating</th>\n",
       "      <th>coordinates</th>\n",
       "      <th>transactions</th>\n",
       "      <th>price</th>\n",
       "      <th>location</th>\n",
       "      <th>phone</th>\n",
       "      <th>display_phone</th>\n",
       "      <th>distance</th>\n",
       "    </tr>\n",
       "  </thead>\n",
       "  <tbody>\n",
       "    <tr>\n",
       "      <th>0</th>\n",
       "      <td>AQ56plNP56TIk3JswtoiMA</td>\n",
       "      <td>abbey-burger-bistro-baltimore-4</td>\n",
       "      <td>Abbey Burger Bistro</td>\n",
       "      <td>https://s3-media4.fl.yelpcdn.com/bphoto/_ZZ4nI...</td>\n",
       "      <td>False</td>\n",
       "      <td>https://www.yelp.com/biz/abbey-burger-bistro-b...</td>\n",
       "      <td>916</td>\n",
       "      <td>[{'alias': 'sportsbars', 'title': 'Sports Bars...</td>\n",
       "      <td>4.0</td>\n",
       "      <td>{'latitude': 39.2771835822848, 'longitude': -7...</td>\n",
       "      <td>[delivery, pickup]</td>\n",
       "      <td>$$</td>\n",
       "      <td>{'address1': '1041 Marshall St', 'address2': '...</td>\n",
       "      <td>+14434539698</td>\n",
       "      <td>(443) 453-9698</td>\n",
       "      <td>2161.212353</td>\n",
       "    </tr>\n",
       "    <tr>\n",
       "      <th>1</th>\n",
       "      <td>5CM8nuqd0od68GqQ-UGicQ</td>\n",
       "      <td>cookhouse-baltimore-2</td>\n",
       "      <td>CookHouse</td>\n",
       "      <td>https://s3-media2.fl.yelpcdn.com/bphoto/N-2JWj...</td>\n",
       "      <td>False</td>\n",
       "      <td>https://www.yelp.com/biz/cookhouse-baltimore-2...</td>\n",
       "      <td>21</td>\n",
       "      <td>[{'alias': 'newamerican', 'title': 'American (...</td>\n",
       "      <td>5.0</td>\n",
       "      <td>{'latitude': 39.30715667, 'longitude': -76.625...</td>\n",
       "      <td>[delivery, pickup]</td>\n",
       "      <td>NaN</td>\n",
       "      <td>{'address1': '1501 Bolton St', 'address2': Non...</td>\n",
       "      <td>+14102259964</td>\n",
       "      <td>(410) 225-9964</td>\n",
       "      <td>1990.078956</td>\n",
       "    </tr>\n",
       "    <tr>\n",
       "      <th>2</th>\n",
       "      <td>3j6GTI0V2Jshw8e1c3uFoA</td>\n",
       "      <td>the-urban-burger-bar-baltimore</td>\n",
       "      <td>The Urban Burger Bar</td>\n",
       "      <td>https://s3-media4.fl.yelpcdn.com/bphoto/1zNJ5c...</td>\n",
       "      <td>False</td>\n",
       "      <td>https://www.yelp.com/biz/the-urban-burger-bar-...</td>\n",
       "      <td>35</td>\n",
       "      <td>[{'alias': 'burgers', 'title': 'Burgers'}]</td>\n",
       "      <td>4.5</td>\n",
       "      <td>{'latitude': 39.32696, 'longitude': -76.63753}</td>\n",
       "      <td>[delivery, pickup]</td>\n",
       "      <td>$$</td>\n",
       "      <td>{'address1': '3300 Clipper Mill Rd', 'address2...</td>\n",
       "      <td></td>\n",
       "      <td></td>\n",
       "      <td>4242.702639</td>\n",
       "    </tr>\n",
       "    <tr>\n",
       "      <th>3</th>\n",
       "      <td>QHVUhI8JBAcqGj1JufDcHw</td>\n",
       "      <td>wiley-gunters-baltimore</td>\n",
       "      <td>Wiley Gunters</td>\n",
       "      <td>https://s3-media3.fl.yelpcdn.com/bphoto/Lc-4k9...</td>\n",
       "      <td>False</td>\n",
       "      <td>https://www.yelp.com/biz/wiley-gunters-baltimo...</td>\n",
       "      <td>136</td>\n",
       "      <td>[{'alias': 'burgers', 'title': 'Burgers'}, {'a...</td>\n",
       "      <td>4.5</td>\n",
       "      <td>{'latitude': 39.27174, 'longitude': -76.60223}</td>\n",
       "      <td>[delivery, pickup]</td>\n",
       "      <td>$$</td>\n",
       "      <td>{'address1': '823 E Fort Ave', 'address2': '',...</td>\n",
       "      <td>+14106373699</td>\n",
       "      <td>(410) 637-3699</td>\n",
       "      <td>2754.995467</td>\n",
       "    </tr>\n",
       "    <tr>\n",
       "      <th>4</th>\n",
       "      <td>DnhKT0A9OIgFdIhzNryJBw</td>\n",
       "      <td>abbey-burger-bistro-baltimore-6</td>\n",
       "      <td>Abbey Burger Bistro</td>\n",
       "      <td>https://s3-media3.fl.yelpcdn.com/bphoto/oq4-Iy...</td>\n",
       "      <td>False</td>\n",
       "      <td>https://www.yelp.com/biz/abbey-burger-bistro-b...</td>\n",
       "      <td>268</td>\n",
       "      <td>[{'alias': 'tradamerican', 'title': 'American ...</td>\n",
       "      <td>4.0</td>\n",
       "      <td>{'latitude': 39.2822776123555, 'longitude': -7...</td>\n",
       "      <td>[delivery, pickup]</td>\n",
       "      <td>$$</td>\n",
       "      <td>{'address1': '811 S Broadway', 'address2': '',...</td>\n",
       "      <td>+14105221428</td>\n",
       "      <td>(410) 522-1428</td>\n",
       "      <td>2009.275703</td>\n",
       "    </tr>\n",
       "    <tr>\n",
       "      <th>...</th>\n",
       "      <td>...</td>\n",
       "      <td>...</td>\n",
       "      <td>...</td>\n",
       "      <td>...</td>\n",
       "      <td>...</td>\n",
       "      <td>...</td>\n",
       "      <td>...</td>\n",
       "      <td>...</td>\n",
       "      <td>...</td>\n",
       "      <td>...</td>\n",
       "      <td>...</td>\n",
       "      <td>...</td>\n",
       "      <td>...</td>\n",
       "      <td>...</td>\n",
       "      <td>...</td>\n",
       "      <td>...</td>\n",
       "    </tr>\n",
       "    <tr>\n",
       "      <th>522</th>\n",
       "      <td>gXQL3Zmlv0aXzjhYPRt5tg</td>\n",
       "      <td>mcdonalds-baltimore-57</td>\n",
       "      <td>McDonald's</td>\n",
       "      <td>https://s3-media2.fl.yelpcdn.com/bphoto/VAqcvo...</td>\n",
       "      <td>False</td>\n",
       "      <td>https://www.yelp.com/biz/mcdonalds-baltimore-5...</td>\n",
       "      <td>6</td>\n",
       "      <td>[{'alias': 'coffee', 'title': 'Coffee &amp; Tea'},...</td>\n",
       "      <td>1.5</td>\n",
       "      <td>{'latitude': 39.3093679758871, 'longitude': -7...</td>\n",
       "      <td>[delivery]</td>\n",
       "      <td>$</td>\n",
       "      <td>{'address1': '4526 Erdman Ave', 'address2': No...</td>\n",
       "      <td>+14104839723</td>\n",
       "      <td>(410) 483-9723</td>\n",
       "      <td>4193.333190</td>\n",
       "    </tr>\n",
       "    <tr>\n",
       "      <th>523</th>\n",
       "      <td>cA-DS-nJlfl7IYre-rjH4Q</td>\n",
       "      <td>daily-grind-baltimore-8</td>\n",
       "      <td>Daily Grind</td>\n",
       "      <td>https://s3-media1.fl.yelpcdn.com/bphoto/jrsOvc...</td>\n",
       "      <td>False</td>\n",
       "      <td>https://www.yelp.com/biz/daily-grind-baltimore...</td>\n",
       "      <td>232</td>\n",
       "      <td>[{'alias': 'coffee', 'title': 'Coffee &amp; Tea'},...</td>\n",
       "      <td>3.5</td>\n",
       "      <td>{'latitude': 39.2821578979492, 'longitude': -7...</td>\n",
       "      <td>[delivery]</td>\n",
       "      <td>$</td>\n",
       "      <td>{'address1': '1720 Thames St', 'address2': '',...</td>\n",
       "      <td>+14105580399</td>\n",
       "      <td>(410) 558-0399</td>\n",
       "      <td>2079.005086</td>\n",
       "    </tr>\n",
       "    <tr>\n",
       "      <th>524</th>\n",
       "      <td>rtlLrtUn35c9Y2eIcxHT8g</td>\n",
       "      <td>kings-pizza-and-subs-baltimore-2</td>\n",
       "      <td>King's Pizza &amp; Subs</td>\n",
       "      <td>https://s3-media2.fl.yelpcdn.com/bphoto/9FEdeU...</td>\n",
       "      <td>False</td>\n",
       "      <td>https://www.yelp.com/biz/kings-pizza-and-subs-...</td>\n",
       "      <td>75</td>\n",
       "      <td>[{'alias': 'pizza', 'title': 'Pizza'}]</td>\n",
       "      <td>2.5</td>\n",
       "      <td>{'latitude': 39.33086, 'longitude': -76.63161}</td>\n",
       "      <td>[delivery, pickup]</td>\n",
       "      <td>$$</td>\n",
       "      <td>{'address1': '907 W 36th St', 'address2': None...</td>\n",
       "      <td>+14108893663</td>\n",
       "      <td>(410) 889-3663</td>\n",
       "      <td>4382.210159</td>\n",
       "    </tr>\n",
       "    <tr>\n",
       "      <th>525</th>\n",
       "      <td>x6u_Xd5Zr6skcQsIUiUOng</td>\n",
       "      <td>jazzys-baltimore</td>\n",
       "      <td>Jazzy's</td>\n",
       "      <td>https://s3-media1.fl.yelpcdn.com/bphoto/NcDv9-...</td>\n",
       "      <td>False</td>\n",
       "      <td>https://www.yelp.com/biz/jazzys-baltimore?adju...</td>\n",
       "      <td>1</td>\n",
       "      <td>[{'alias': 'burgers', 'title': 'Burgers'}, {'a...</td>\n",
       "      <td>2.0</td>\n",
       "      <td>{'latitude': 39.322087392211, 'longitude': -76...</td>\n",
       "      <td>[delivery]</td>\n",
       "      <td>NaN</td>\n",
       "      <td>{'address1': '3320 Belair Rd', 'address2': '',...</td>\n",
       "      <td>+14105636222</td>\n",
       "      <td>(410) 563-6222</td>\n",
       "      <td>4134.435594</td>\n",
       "    </tr>\n",
       "    <tr>\n",
       "      <th>526</th>\n",
       "      <td>rMrTzM9EET0wszOng1eINA</td>\n",
       "      <td>chelles-kitchen-baltimore</td>\n",
       "      <td>Chelles kitchen</td>\n",
       "      <td>https://s3-media1.fl.yelpcdn.com/bphoto/M4RMzz...</td>\n",
       "      <td>False</td>\n",
       "      <td>https://www.yelp.com/biz/chelles-kitchen-balti...</td>\n",
       "      <td>11</td>\n",
       "      <td>[{'alias': 'hotdogs', 'title': 'Fast Food'}, {...</td>\n",
       "      <td>2.5</td>\n",
       "      <td>{'latitude': 39.32332, 'longitude': -76.57185}</td>\n",
       "      <td>[delivery, pickup]</td>\n",
       "      <td>NaN</td>\n",
       "      <td>{'address1': '3436 Belair Rd', 'address2': '',...</td>\n",
       "      <td>+14103014414</td>\n",
       "      <td>(410) 301-4414</td>\n",
       "      <td>4311.772603</td>\n",
       "    </tr>\n",
       "  </tbody>\n",
       "</table>\n",
       "<p>527 rows × 16 columns</p>\n",
       "</div>"
      ],
      "text/plain": [
       "                         id                             alias  \\\n",
       "0    AQ56plNP56TIk3JswtoiMA   abbey-burger-bistro-baltimore-4   \n",
       "1    5CM8nuqd0od68GqQ-UGicQ             cookhouse-baltimore-2   \n",
       "2    3j6GTI0V2Jshw8e1c3uFoA    the-urban-burger-bar-baltimore   \n",
       "3    QHVUhI8JBAcqGj1JufDcHw           wiley-gunters-baltimore   \n",
       "4    DnhKT0A9OIgFdIhzNryJBw   abbey-burger-bistro-baltimore-6   \n",
       "..                      ...                               ...   \n",
       "522  gXQL3Zmlv0aXzjhYPRt5tg            mcdonalds-baltimore-57   \n",
       "523  cA-DS-nJlfl7IYre-rjH4Q           daily-grind-baltimore-8   \n",
       "524  rtlLrtUn35c9Y2eIcxHT8g  kings-pizza-and-subs-baltimore-2   \n",
       "525  x6u_Xd5Zr6skcQsIUiUOng                  jazzys-baltimore   \n",
       "526  rMrTzM9EET0wszOng1eINA         chelles-kitchen-baltimore   \n",
       "\n",
       "                     name                                          image_url  \\\n",
       "0     Abbey Burger Bistro  https://s3-media4.fl.yelpcdn.com/bphoto/_ZZ4nI...   \n",
       "1               CookHouse  https://s3-media2.fl.yelpcdn.com/bphoto/N-2JWj...   \n",
       "2    The Urban Burger Bar  https://s3-media4.fl.yelpcdn.com/bphoto/1zNJ5c...   \n",
       "3           Wiley Gunters  https://s3-media3.fl.yelpcdn.com/bphoto/Lc-4k9...   \n",
       "4     Abbey Burger Bistro  https://s3-media3.fl.yelpcdn.com/bphoto/oq4-Iy...   \n",
       "..                    ...                                                ...   \n",
       "522            McDonald's  https://s3-media2.fl.yelpcdn.com/bphoto/VAqcvo...   \n",
       "523           Daily Grind  https://s3-media1.fl.yelpcdn.com/bphoto/jrsOvc...   \n",
       "524   King's Pizza & Subs  https://s3-media2.fl.yelpcdn.com/bphoto/9FEdeU...   \n",
       "525               Jazzy's  https://s3-media1.fl.yelpcdn.com/bphoto/NcDv9-...   \n",
       "526       Chelles kitchen  https://s3-media1.fl.yelpcdn.com/bphoto/M4RMzz...   \n",
       "\n",
       "     is_closed                                                url  \\\n",
       "0        False  https://www.yelp.com/biz/abbey-burger-bistro-b...   \n",
       "1        False  https://www.yelp.com/biz/cookhouse-baltimore-2...   \n",
       "2        False  https://www.yelp.com/biz/the-urban-burger-bar-...   \n",
       "3        False  https://www.yelp.com/biz/wiley-gunters-baltimo...   \n",
       "4        False  https://www.yelp.com/biz/abbey-burger-bistro-b...   \n",
       "..         ...                                                ...   \n",
       "522      False  https://www.yelp.com/biz/mcdonalds-baltimore-5...   \n",
       "523      False  https://www.yelp.com/biz/daily-grind-baltimore...   \n",
       "524      False  https://www.yelp.com/biz/kings-pizza-and-subs-...   \n",
       "525      False  https://www.yelp.com/biz/jazzys-baltimore?adju...   \n",
       "526      False  https://www.yelp.com/biz/chelles-kitchen-balti...   \n",
       "\n",
       "     review_count                                         categories  rating  \\\n",
       "0             916  [{'alias': 'sportsbars', 'title': 'Sports Bars...     4.0   \n",
       "1              21  [{'alias': 'newamerican', 'title': 'American (...     5.0   \n",
       "2              35         [{'alias': 'burgers', 'title': 'Burgers'}]     4.5   \n",
       "3             136  [{'alias': 'burgers', 'title': 'Burgers'}, {'a...     4.5   \n",
       "4             268  [{'alias': 'tradamerican', 'title': 'American ...     4.0   \n",
       "..            ...                                                ...     ...   \n",
       "522             6  [{'alias': 'coffee', 'title': 'Coffee & Tea'},...     1.5   \n",
       "523           232  [{'alias': 'coffee', 'title': 'Coffee & Tea'},...     3.5   \n",
       "524            75             [{'alias': 'pizza', 'title': 'Pizza'}]     2.5   \n",
       "525             1  [{'alias': 'burgers', 'title': 'Burgers'}, {'a...     2.0   \n",
       "526            11  [{'alias': 'hotdogs', 'title': 'Fast Food'}, {...     2.5   \n",
       "\n",
       "                                           coordinates        transactions  \\\n",
       "0    {'latitude': 39.2771835822848, 'longitude': -7...  [delivery, pickup]   \n",
       "1    {'latitude': 39.30715667, 'longitude': -76.625...  [delivery, pickup]   \n",
       "2       {'latitude': 39.32696, 'longitude': -76.63753}  [delivery, pickup]   \n",
       "3       {'latitude': 39.27174, 'longitude': -76.60223}  [delivery, pickup]   \n",
       "4    {'latitude': 39.2822776123555, 'longitude': -7...  [delivery, pickup]   \n",
       "..                                                 ...                 ...   \n",
       "522  {'latitude': 39.3093679758871, 'longitude': -7...          [delivery]   \n",
       "523  {'latitude': 39.2821578979492, 'longitude': -7...          [delivery]   \n",
       "524     {'latitude': 39.33086, 'longitude': -76.63161}  [delivery, pickup]   \n",
       "525  {'latitude': 39.322087392211, 'longitude': -76...          [delivery]   \n",
       "526     {'latitude': 39.32332, 'longitude': -76.57185}  [delivery, pickup]   \n",
       "\n",
       "    price                                           location         phone  \\\n",
       "0      $$  {'address1': '1041 Marshall St', 'address2': '...  +14434539698   \n",
       "1     NaN  {'address1': '1501 Bolton St', 'address2': Non...  +14102259964   \n",
       "2      $$  {'address1': '3300 Clipper Mill Rd', 'address2...                 \n",
       "3      $$  {'address1': '823 E Fort Ave', 'address2': '',...  +14106373699   \n",
       "4      $$  {'address1': '811 S Broadway', 'address2': '',...  +14105221428   \n",
       "..    ...                                                ...           ...   \n",
       "522     $  {'address1': '4526 Erdman Ave', 'address2': No...  +14104839723   \n",
       "523     $  {'address1': '1720 Thames St', 'address2': '',...  +14105580399   \n",
       "524    $$  {'address1': '907 W 36th St', 'address2': None...  +14108893663   \n",
       "525   NaN  {'address1': '3320 Belair Rd', 'address2': '',...  +14105636222   \n",
       "526   NaN  {'address1': '3436 Belair Rd', 'address2': '',...  +14103014414   \n",
       "\n",
       "      display_phone     distance  \n",
       "0    (443) 453-9698  2161.212353  \n",
       "1    (410) 225-9964  1990.078956  \n",
       "2                    4242.702639  \n",
       "3    (410) 637-3699  2754.995467  \n",
       "4    (410) 522-1428  2009.275703  \n",
       "..              ...          ...  \n",
       "522  (410) 483-9723  4193.333190  \n",
       "523  (410) 558-0399  2079.005086  \n",
       "524  (410) 889-3663  4382.210159  \n",
       "525  (410) 563-6222  4134.435594  \n",
       "526  (410) 301-4414  4311.772603  \n",
       "\n",
       "[527 rows x 16 columns]"
      ]
     },
     "execution_count": 17,
     "metadata": {},
     "output_type": "execute_result"
    }
   ],
   "source": [
    "df = pd.read_json(JSON_FILE)\n",
    "df"
   ]
  },
  {
   "cell_type": "code",
   "execution_count": 18,
   "metadata": {},
   "outputs": [
    {
     "data": {
      "text/plain": [
       "'Data/Burgers-Baltimore.csv.gz'"
      ]
     },
     "execution_count": 18,
     "metadata": {},
     "output_type": "execute_result"
    }
   ],
   "source": [
    "## convert the filename to a .csv.gz\n",
    "csv_file = JSON_FILE.replace('.json','.csv.gz')\n",
    "csv_file"
   ]
  },
  {
   "cell_type": "code",
   "execution_count": 19,
   "metadata": {},
   "outputs": [],
   "source": [
    "## Save it as a compressed csv (to save space)\n",
    "df.to_csv(csv_file, compression='gzip', index=False)"
   ]
  },
  {
   "cell_type": "markdown",
   "metadata": {},
   "source": [
    "## Bonus: compare filesize with os module's `os.path.getsize`"
   ]
  },
  {
   "cell_type": "code",
   "execution_count": 20,
   "metadata": {},
   "outputs": [
    {
     "name": "stdout",
     "output_type": "stream",
     "text": [
      "JSON FILE: 517,614 Bytes\n",
      "CSV.GZ FILE: 73,119 Bytes\n",
      "the csv.gz is 7.079062897468511 times smaller!\n"
     ]
    }
   ],
   "source": [
    "size_json = os.path.getsize(JSON_FILE)\n",
    "size_csv_gz = os.path.getsize(JSON_FILE.replace('.json','.csv.gz'))\n",
    "\n",
    "print(f'JSON FILE: {size_json:,} Bytes')\n",
    "print(f'CSV.GZ FILE: {size_csv_gz:,} Bytes')\n",
    "\n",
    "print(f'the csv.gz is {size_json/size_csv_gz} times smaller!')"
   ]
  },
  {
   "cell_type": "markdown",
   "metadata": {},
   "source": [
    "## Next Class: Processing the Results and Mapping "
   ]
  }
 ],
 "metadata": {
  "colab": {
   "collapsed_sections": [],
   "name": "Test Yelp API Package.ipynb",
   "provenance": []
  },
  "kernelspec": {
   "display_name": "Python (dojo-env)",
   "language": "python",
   "name": "dojo.env"
  },
  "language_info": {
   "codemirror_mode": {
    "name": "ipython",
    "version": 3
   },
   "file_extension": ".py",
   "mimetype": "text/x-python",
   "name": "python",
   "nbconvert_exporter": "python",
   "pygments_lexer": "ipython3",
   "version": "3.7.12"
  },
  "toc": {
   "base_numbering": 1,
   "nav_menu": {},
   "number_sections": false,
   "sideBar": true,
   "skip_h1_title": false,
   "title_cell": "Table of Contents",
   "title_sidebar": "Contents",
   "toc_cell": false,
   "toc_position": {},
   "toc_section_display": true,
   "toc_window_display": true
  },
  "widgets": {
   "application/vnd.jupyter.widget-state+json": {
    "state": {
     "109f868614c14cf184f7fc2decbf9673": {
      "model_module": "@jupyter-widgets/controls",
      "model_module_version": "1.5.0",
      "model_name": "HBoxModel",
      "state": {
       "children": [
        "IPY_MODEL_9a3a62bd76964784b779788f788c8ab5",
        "IPY_MODEL_95429e2fbb5b4f17a7605afe533f552d",
        "IPY_MODEL_9ed32b22732c4ab3a79680e89f600968"
       ],
       "layout": "IPY_MODEL_9ae71fe2fec04da8b83c95768e65b40a"
      }
     },
     "3d5167735de74858b26af056445b90aa": {
      "model_module": "@jupyter-widgets/controls",
      "model_module_version": "1.5.0",
      "model_name": "DescriptionStyleModel",
      "state": {
       "description_width": ""
      }
     },
     "4fae0961c394454aa4b61e927a411a26": {
      "model_module": "@jupyter-widgets/base",
      "model_module_version": "1.2.0",
      "model_name": "LayoutModel",
      "state": {}
     },
     "95429e2fbb5b4f17a7605afe533f552d": {
      "model_module": "@jupyter-widgets/controls",
      "model_module_version": "1.5.0",
      "model_name": "FloatProgressModel",
      "state": {
       "bar_style": "success",
       "layout": "IPY_MODEL_964fca778162476d872e83df24702a1b",
       "max": 27,
       "style": "IPY_MODEL_aaad8b5087a14ed59ff9e5ca01446a8d",
       "value": 27
      }
     },
     "964fca778162476d872e83df24702a1b": {
      "model_module": "@jupyter-widgets/base",
      "model_module_version": "1.2.0",
      "model_name": "LayoutModel",
      "state": {}
     },
     "9a3a62bd76964784b779788f788c8ab5": {
      "model_module": "@jupyter-widgets/controls",
      "model_module_version": "1.5.0",
      "model_name": "HTMLModel",
      "state": {
       "layout": "IPY_MODEL_4fae0961c394454aa4b61e927a411a26",
       "style": "IPY_MODEL_b4bca37c85024a55a8ec9263ac35cea6",
       "value": "100%"
      }
     },
     "9ae71fe2fec04da8b83c95768e65b40a": {
      "model_module": "@jupyter-widgets/base",
      "model_module_version": "1.2.0",
      "model_name": "LayoutModel",
      "state": {}
     },
     "9ed32b22732c4ab3a79680e89f600968": {
      "model_module": "@jupyter-widgets/controls",
      "model_module_version": "1.5.0",
      "model_name": "HTMLModel",
      "state": {
       "layout": "IPY_MODEL_e73d52c61e0845a4b68a66b8bf7a7a7b",
       "style": "IPY_MODEL_3d5167735de74858b26af056445b90aa",
       "value": " 27/27 [00:22&lt;00:00,  1.15it/s]"
      }
     },
     "aaad8b5087a14ed59ff9e5ca01446a8d": {
      "model_module": "@jupyter-widgets/controls",
      "model_module_version": "1.5.0",
      "model_name": "ProgressStyleModel",
      "state": {
       "description_width": ""
      }
     },
     "b4bca37c85024a55a8ec9263ac35cea6": {
      "model_module": "@jupyter-widgets/controls",
      "model_module_version": "1.5.0",
      "model_name": "DescriptionStyleModel",
      "state": {
       "description_width": ""
      }
     },
     "e73d52c61e0845a4b68a66b8bf7a7a7b": {
      "model_module": "@jupyter-widgets/base",
      "model_module_version": "1.2.0",
      "model_name": "LayoutModel",
      "state": {}
     }
    },
    "version_major": 2,
    "version_minor": 0
   }
  }
 },
 "nbformat": 4,
 "nbformat_minor": 1
}
